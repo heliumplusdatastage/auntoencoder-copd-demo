{
 "cells": [
  {
   "cell_type": "code",
   "execution_count": null,
   "metadata": {},
   "outputs": [],
   "source": [
    "from __future__ import absolute_import\n",
    "from __future__ import division\n",
    "from __future__ import print_function\n",
    "\n",
    "import matplotlib.pyplot as plt\n",
    "import pydicom\n",
    "import numpy as np\n",
    "import tensorflow as tf\n",
    "from Autoencoder import Autoencoder"
   ]
  },
  {
   "cell_type": "code",
   "execution_count": null,
   "metadata": {},
   "outputs": [],
   "source": [
    "filename = \"/home/efs-copdgene-data/copdgene/COPDgene_batch_01/COPDGene_A67949_COPDGene_A67949/19000101/Series_002-144330-COPDGene_A67949_INSP_SHARP/1.2.840.113619.2.55.3.3852317604.396.1281051537.826.323.dcm\"\n",
    "ds = pydicom.dcmread(filename)"
   ]
  },
  {
   "cell_type": "code",
   "execution_count": null,
   "metadata": {},
   "outputs": [],
   "source": [
    "img = ds.pixel_array/ds.pixel_array.max()\n",
    "img = np.expand_dims(img.flatten(), 0)\n",
    "\n",
    "n_samples = 1\n",
    "training_epochs = 40\n",
    "batch_size = 1\n",
    "display_step = 5\n",
    "img_size = img.shape[1]\n",
    "\n",
    "autoencoder = Autoencoder(n_layers=[img_size, 200],\n",
    "                          transfer_function = tf.nn.softplus,\n",
    "                          optimizer = tf.train.AdamOptimizer(learning_rate = 0.001))"
   ]
  },
  {
   "cell_type": "code",
   "execution_count": null,
   "metadata": {},
   "outputs": [],
   "source": [
    "for epoch in range(training_epochs):\n",
    "    avg_cost = 0.\n",
    "    total_batch = int(n_samples / batch_size)\n",
    "    # Loop over all batches\n",
    "    for i in range(total_batch):\n",
    "        # Fit training using batch data\n",
    "        cost = autoencoder.partial_fit(img)\n",
    "        # Compute average loss\n",
    "        avg_cost += cost / n_samples * batch_size\n",
    "        recon_img = autoencoder.reconstruct(img)\n",
    "\n",
    "    # Display logs and imgs per epoch step\n",
    "    if epoch % display_step == 0:\n",
    "        fig = plt.figure()\n",
    "        fig.text(0.5, 0.18, \n",
    "                 \"Epoch: \" + '%d, ' % (epoch + 1) + \"Loss: \" + \"{:.2f}\".format(avg_cost), \n",
    "                 ha='center',\n",
    "                 fontsize= 'x-large')\n",
    "        plt.subplot(1, 2, 1)\n",
    "        plt.imshow(ds.pixel_array, cmap=plt.cm.bone)\n",
    "        plt.axis('off')\n",
    "        plt.title('Original Image')\n",
    "\n",
    "        plt.subplot(1, 2, 2)\n",
    "        plt.imshow(recon_img.reshape(ds.pixel_array.shape), cmap=plt.cm.bone)\n",
    "        plt.axis('off')\n",
    "        plt.title('Reconstructed Image')"
   ]
  }
 ],
 "metadata": {
  "kernelspec": {
   "display_name": "Python 3",
   "language": "python",
   "name": "python3"
  },
  "language_info": {
   "codemirror_mode": {
    "name": "ipython",
    "version": 3
   },
   "file_extension": ".py",
   "mimetype": "text/x-python",
   "name": "python",
   "nbconvert_exporter": "python",
   "pygments_lexer": "ipython3",
   "version": "3.6.6"
  }
 },
 "nbformat": 4,
 "nbformat_minor": 2
}
